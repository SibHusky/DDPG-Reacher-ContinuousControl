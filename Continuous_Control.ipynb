{
 "cells": [
  {
   "cell_type": "markdown",
   "metadata": {},
   "source": [
    "# Continuous Control\n",
    "\n",
    "---\n",
    "\n",
    "In this notebook, you will learn how to use the Unity ML-Agents environment for the second project of the [Deep Reinforcement Learning Nanodegree](https://www.udacity.com/course/deep-reinforcement-learning-nanodegree--nd893) program.\n",
    "\n",
    "### 1. Start the Environment\n",
    "\n",
    "We begin by importing the necessary packages.  If the code cell below returns an error, please revisit the project instructions to double-check that you have installed [Unity ML-Agents](https://github.com/Unity-Technologies/ml-agents/blob/master/docs/Installation.md) and [NumPy](http://www.numpy.org/)."
   ]
  },
  {
   "cell_type": "code",
   "execution_count": 1,
   "metadata": {
    "scrolled": true
   },
   "outputs": [],
   "source": [
    "from unityagents import UnityEnvironment\n",
    "import numpy as np\n",
    "\n",
    "import random\n",
    "import torch\n",
    "from collections import deque\n",
    "import matplotlib.pyplot as plt\n",
    "%matplotlib inline\n",
    "\n",
    "from ddpg_agent import Agent"
   ]
  },
  {
   "cell_type": "markdown",
   "metadata": {},
   "source": [
    "Next, we will start the environment!  **_Before running the code cell below_**, change the `file_name` parameter to match the location of the Unity environment that you downloaded.\n",
    "\n",
    "- **Mac**: `\"path/to/Reacher.app\"`\n",
    "- **Windows** (x86): `\"path/to/Reacher_Windows_x86/Reacher.exe\"`\n",
    "- **Windows** (x86_64): `\"path/to/Reacher_Windows_x86_64/Reacher.exe\"`\n",
    "- **Linux** (x86): `\"path/to/Reacher_Linux/Reacher.x86\"`\n",
    "- **Linux** (x86_64): `\"path/to/Reacher_Linux/Reacher.x86_64\"`\n",
    "- **Linux** (x86, headless): `\"path/to/Reacher_Linux_NoVis/Reacher.x86\"`\n",
    "- **Linux** (x86_64, headless): `\"path/to/Reacher_Linux_NoVis/Reacher.x86_64\"`\n",
    "\n",
    "For instance, if you are using a Mac, then you downloaded `Reacher.app`.  If this file is in the same folder as the notebook, then the line below should appear as follows:\n",
    "```\n",
    "env = UnityEnvironment(file_name=\"Reacher.app\")\n",
    "```"
   ]
  },
  {
   "cell_type": "code",
   "execution_count": 2,
   "metadata": {},
   "outputs": [
    {
     "name": "stderr",
     "output_type": "stream",
     "text": [
      "INFO:unityagents:\n",
      "'Academy' started successfully!\n",
      "Unity Academy name: Academy\n",
      "        Number of Brains: 1\n",
      "        Number of External Brains : 1\n",
      "        Lesson number : 0\n",
      "        Reset Parameters :\n",
      "\t\tgoal_speed -> 1.0\n",
      "\t\tgoal_size -> 5.0\n",
      "Unity brain name: ReacherBrain\n",
      "        Number of Visual Observations (per agent): 0\n",
      "        Vector Observation space type: continuous\n",
      "        Vector Observation space size (per agent): 33\n",
      "        Number of stacked Vector Observation: 1\n",
      "        Vector Action space type: continuous\n",
      "        Vector Action space size (per agent): 4\n",
      "        Vector Action descriptions: , , , \n"
     ]
    }
   ],
   "source": [
    "env = UnityEnvironment(file_name='./p2_continuous-control/Reacher_Windows_x86_64/Reacher.app')"
   ]
  },
  {
   "cell_type": "markdown",
   "metadata": {},
   "source": [
    "Environments contain **_brains_** which are responsible for deciding the actions of their associated agents. Here we check for the first brain available, and set it as the default brain we will be controlling from Python."
   ]
  },
  {
   "cell_type": "code",
   "execution_count": 3,
   "metadata": {},
   "outputs": [],
   "source": [
    "# get the default brain\n",
    "brain_name = env.brain_names[0]\n",
    "brain = env.brains[brain_name]"
   ]
  },
  {
   "cell_type": "markdown",
   "metadata": {},
   "source": [
    "### 2. Examine the State and Action Spaces\n",
    "\n",
    "In this environment, a double-jointed arm can move to target locations. A reward of `+0.1` is provided for each step that the agent's hand is in the goal location. Thus, the goal of your agent is to maintain its position at the target location for as many time steps as possible.\n",
    "\n",
    "The observation space consists of `33` variables corresponding to position, rotation, velocity, and angular velocities of the arm.  Each action is a vector with four numbers, corresponding to torque applicable to two joints.  Every entry in the action vector must be a number between `-1` and `1`.\n",
    "\n",
    "Run the code cell below to print some information about the environment."
   ]
  },
  {
   "cell_type": "code",
   "execution_count": 4,
   "metadata": {
    "scrolled": true
   },
   "outputs": [
    {
     "name": "stdout",
     "output_type": "stream",
     "text": [
      "Number of agents: 1\n",
      "Size of each action: 4\n",
      "There are 1 agents. Each observes a state with length: 33\n",
      "The state for the first agent looks like: [ 0.00000000e+00 -4.00000000e+00  0.00000000e+00  1.00000000e+00\n",
      " -0.00000000e+00 -0.00000000e+00 -4.37113883e-08  0.00000000e+00\n",
      "  0.00000000e+00  0.00000000e+00  0.00000000e+00  0.00000000e+00\n",
      "  0.00000000e+00  0.00000000e+00 -1.00000000e+01  0.00000000e+00\n",
      "  1.00000000e+00 -0.00000000e+00 -0.00000000e+00 -4.37113883e-08\n",
      "  0.00000000e+00  0.00000000e+00  0.00000000e+00  0.00000000e+00\n",
      "  0.00000000e+00  0.00000000e+00  5.75471878e+00 -1.00000000e+00\n",
      "  5.55726671e+00  0.00000000e+00  1.00000000e+00  0.00000000e+00\n",
      " -1.68164849e-01]\n",
      "[0.0]\n"
     ]
    }
   ],
   "source": [
    "# reset the environment\n",
    "env_info = env.reset(train_mode=True)[brain_name]\n",
    "\n",
    "# number of agents\n",
    "num_agents = len(env_info.agents)\n",
    "print('Number of agents:', num_agents)\n",
    "\n",
    "# size of each action\n",
    "action_size = brain.vector_action_space_size\n",
    "print('Size of each action:', action_size)\n",
    "\n",
    "# examine the state space \n",
    "states = env_info.vector_observations\n",
    "state_size = states.shape[1]\n",
    "print('There are {} agents. Each observes a state with length: {}'.format(states.shape[0], state_size))\n",
    "print('The state for the first agent looks like:', states[0])\n",
    "\n",
    "print (env_info.rewards)"
   ]
  },
  {
   "cell_type": "code",
   "execution_count": 5,
   "metadata": {},
   "outputs": [],
   "source": [
    "#Hyperparameter tuning\n",
    "######################\n",
    "\n",
    "BUFFER_SIZE = int(1e6)  # replay buffer size\n",
    "BATCH_SIZE = 256        # minibatch size\n",
    "GAMMA = 0.99            # discount factor\n",
    "TAU = 1e-3              # for soft update of target parameters\n",
    "LR_ACTOR = 1e-3         # learning rate of the actor \n",
    "LR_CRITIC = 1e-3        # learning rate of the critic\n",
    "WEIGHT_DECAY = 0   # L2 weight decay\n",
    "EPSILON_DECAY = 0.99995\n",
    "UPDATE_EVERY = 100\n",
    "UPDATE_TIMES = 10"
   ]
  },
  {
   "cell_type": "code",
   "execution_count": 6,
   "metadata": {
    "scrolled": true
   },
   "outputs": [
    {
     "name": "stdout",
     "output_type": "stream",
     "text": [
      "Episode 100\tAverage100 Score: 0.11\tScore: 0.00\tEpsilon: 1.00000\n",
      "Episode 200\tAverage100 Score: 0.10\tScore: 0.00\tEpsilon: 1.00000\n",
      "Episode 300\tAverage100 Score: 0.14\tScore: 0.00\tEpsilon: 1.00000\n",
      "Episode 400\tAverage100 Score: 0.16\tScore: 1.17\tEpsilon: 1.00000\n",
      "Episode 500\tAverage100 Score: 0.18\tScore: 0.12\tEpsilon: 0.99825\n",
      "Episode 600\tAverage100 Score: 0.56\tScore: 0.59\tEpsilon: 0.70320\n",
      "Episode 700\tAverage100 Score: 1.06\tScore: 2.09\tEpsilon: 0.49536\n",
      "Episode 800\tAverage100 Score: 1.67\tScore: 1.75\tEpsilon: 0.34895\n",
      "Episode 900\tAverage100 Score: 3.44\tScore: 2.80\tEpsilon: 0.245817\n",
      "Episode 1000\tAverage100 Score: 4.69\tScore: 4.36\tEpsilon: 0.17316\n",
      "Episode 1100\tAverage100 Score: 5.70\tScore: 6.06\tEpsilon: 0.121989\n",
      "Episode 1200\tAverage100 Score: 6.31\tScore: 7.88\tEpsilon: 0.085931\n",
      "Episode 1300\tAverage100 Score: 6.58\tScore: 5.63\tEpsilon: 0.060533\n",
      "Episode 1400\tAverage100 Score: 8.61\tScore: 11.64\tEpsilon: 0.04264\n",
      "Episode 1500\tAverage100 Score: 8.99\tScore: 6.15\tEpsilon: 0.030048\n",
      "Episode 1600\tAverage100 Score: 7.07\tScore: 6.10\tEpsilon: 0.021161\n",
      "Episode 1700\tAverage100 Score: 8.84\tScore: 9.57\tEpsilon: 0.014917\n",
      "Episode 1800\tAverage100 Score: 8.76\tScore: 21.59\tEpsilon: 0.01050\n",
      "Episode 1900\tAverage100 Score: 12.16\tScore: 20.66\tEpsilon: 0.00740\n",
      "Episode 2000\tAverage100 Score: 16.84\tScore: 20.17\tEpsilon: 0.00521\n",
      "Episode 2100\tAverage100 Score: 16.45\tScore: 11.29\tEpsilon: 0.00367\n",
      "Episode 2200\tAverage100 Score: 16.47\tScore: 8.43\tEpsilon: 0.002590\n",
      "Episode 2300\tAverage100 Score: 19.09\tScore: 14.95\tEpsilon: 0.00182\n",
      "Episode 2400\tAverage100 Score: 22.91\tScore: 31.40\tEpsilon: 0.00128\n",
      "Episode 2500\tAverage100 Score: 24.69\tScore: 29.30\tEpsilon: 0.00100\n",
      "Episode 2600\tAverage100 Score: 25.22\tScore: 30.80\tEpsilon: 0.00100\n",
      "Episode 2700\tAverage100 Score: 28.18\tScore: 29.29\tEpsilon: 0.00100\n",
      "Episode 2800\tAverage100 Score: 27.01\tScore: 16.76\tEpsilon: 0.00100\n",
      "Episode 2900\tAverage100 Score: 28.20\tScore: 28.40\tEpsilon: 0.00100\n",
      "Episode 3000\tAverage100 Score: 28.92\tScore: 29.29\tEpsilon: 0.00100\n",
      "Episode 3100\tAverage100 Score: 28.95\tScore: 26.32\tEpsilon: 0.00100\n",
      "Episode 3146\tAverage100 Score: 30.01\tScore: 36.03\tEpsilon: 0.00100\n",
      "Environment solved! \tAverage100 Score: 30.01\tEpisodes: 3146\n"
     ]
    },
    {
     "data": {
      "image/png": "[encoded data removed]",
      "text/plain": [
       "<Figure size 432x288 with 1 Axes>"
      ]
     },
     "metadata": {
      "needs_background": "light"
     },
     "output_type": "display_data"
    }
   ],
   "source": [
    "#Training Agent\n",
    "def ddpg(agent, n_episodes=4000):\n",
    "    scores_deque = deque(maxlen=100)\n",
    "    scores_av100_all = []\n",
    "    all_scores = []\n",
    "    \n",
    "    max_score = -np.Inf\n",
    "    for i_episode in range(1, n_episodes+1):\n",
    "        env_info = env.reset(train_mode=True)[brain_name]\n",
    "        state = env_info.vector_observations\n",
    "        agent.reset()\n",
    "        score = 0\n",
    "        range_counter = 0\n",
    "        while True:\n",
    "            range_counter += 1\n",
    "            action = agent.act(state, add_noise = True)\n",
    "            env_info = env.step(action)[brain_name]\n",
    "            next_state = env_info.vector_observations        # get next state (for each agent)\n",
    "            reward = env_info.rewards                         # get reward (for each agent)\n",
    "            done = env_info.local_done                       # see if episode finished \n",
    "            agent.step(state, action, reward, next_state, done)\n",
    "            state = next_state\n",
    "            score += reward[0]\n",
    "            if np.any(done):                                  # exit loop if episode finished\n",
    "                break\n",
    "        eps = agent.get_epsilon()\n",
    "        \n",
    "        scores_deque.append(score)\n",
    "        all_scores.append(score)\n",
    "        score100 = np.mean(scores_deque)\n",
    "        scores_av100_all.append(score100)\n",
    "        \n",
    "        print('\\rEpisode {}\\tAverage100 Score: {:.2f}\\tScore: {:.2f}\\tEpsilon: {:.5f}'.format(i_episode, score100, score, eps), end=\"\")\n",
    "        if i_episode % 100 == 0:\n",
    "            print('\\rEpisode {}\\tAverage100 Score: {:.2f}'.format(i_episode, score100))\n",
    "        if score100 > 30.0:\n",
    "            print('\\rEpisode {}\\tAverage100 Score: {:.2f}\\tScore: {:.2f}\\tEpsilon: {:.5f}'.format(i_episode, score100, score, eps))\n",
    "            print ('Environment solved! \\tAverage100 Score: {:.2f}\\tEpisodes: {}'.format(score100,i_episode))\n",
    "            torch.save(agent.actor_local.state_dict(), 'checkpoint_actor.pth')\n",
    "            torch.save(agent.critic_local.state_dict(), 'checkpoint_critic.pth')\n",
    "            break\n",
    "    return all_scores, scores_av100_all\n",
    "\n",
    "James = Agent(state_size, action_size, BUFFER_SIZE, BATCH_SIZE, GAMMA, TAU, LR_ACTOR, LR_CRITIC, WEIGHT_DECAY, EPSILON_DECAY, UPDATE_EVERY, UPDATE_TIMES)\n",
    "all_scores, scores_av100_all = ddpg(James)\n",
    "\n",
    "fig = plt.figure()\n",
    "ax = fig.add_subplot(111)\n",
    "plt.plot(np.arange(1, len(all_scores)+1), all_scores)\n",
    "plt.ylabel('Score')\n",
    "plt.xlabel('Episode #')\n",
    "plt.show()"
   ]
  },
  {
   "cell_type": "code",
   "execution_count": 8,
   "metadata": {
    "scrolled": true
   },
   "outputs": [],
   "source": [
    "env.close()"
   ]
  }
 ],
 "metadata": {
  "kernelspec": {
   "display_name": "Python 3",
   "language": "python",
   "name": "python3"
  },
  "language_info": {
   "codemirror_mode": {
    "name": "ipython",
    "version": 3
   },
   "file_extension": ".py",
   "mimetype": "text/x-python",
   "name": "python",
   "nbconvert_exporter": "python",
   "pygments_lexer": "ipython3",
   "version": "3.6.8"
  }
 },
 "nbformat": 4,
 "nbformat_minor": 2
}
